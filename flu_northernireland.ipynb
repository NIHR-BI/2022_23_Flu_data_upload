{
 "cells": [
  {
   "cell_type": "code",
   "execution_count": 77,
   "metadata": {},
   "outputs": [],
   "source": [
    "import pandas as pd\n",
    "import requests\n",
    "from bs4 import BeautifulSoup\n",
    "\n",
    "\n",
    "def parse_data(webpage):\n",
    "    data = requests.get(url=webpage)\n",
    "    data_soup = BeautifulSoup(data.content, 'html.parser')\n",
    "    return data_soup\n",
    "\n",
    "\n",
    "def iterate_through_divs_once(data_soup):\n",
    "    for result in data_soup.find_all(\"div\"):\n",
    "        return result.find_all(\"div\")\n",
    "    \n",
    "\n",
    "## doesnt really work as the result returns a list, not string\n",
    "# def iterate_through_divs_n_times(data_soup, n):\n",
    "#     result = iterate_through_divs_once(data_soup)\n",
    "    \n",
    "#     for i in range(n):\n",
    "#         result = iterate_through_divs_once(result)\n",
    "        \n",
    "#     return result\n",
    "\n",
    "\n",
    "def retrieve_line_with_url(webpage):\n",
    "    # return data_soup\n",
    "    data_soup = parse_data(webpage)\n",
    "\n",
    "    for a in data_soup.find_all(\"div\"):\n",
    "        for b in a.find_all(\"div\"):\n",
    "            for c in b.find_all(\"div\"):\n",
    "                for d in c.find_all(\"div\"):\n",
    "                    for e in d.find_all(\"div\"):\n",
    "                        for f in e.find_all(\"div\"):\n",
    "                          for g in f.find_all(\"a\"):\n",
    "                        \n",
    "                            print(g)\n",
    "                            \n",
    "\n",
    "def retrieve_href(webpage, text_in_url):\n",
    "    # return data_soup\n",
    "    data_soup = parse_data(webpage)\n",
    "\n",
    "    for a in data_soup.find_all(\"div\"):\n",
    "        for b in a.find_all(\"div\"):\n",
    "            for c in b.find_all(\"div\"):\n",
    "                for d in c.find_all(\"div\"):\n",
    "                    for e in d.find_all(\"div\"):\n",
    "                        for f in e.find_all(\"div\"):\n",
    "                          for g in f.find_all(\"a\"):\n",
    "                        \n",
    "                            # print(g)         \n",
    "                            # print(g['href'])\n",
    "                            \n",
    "                            # Retrieve the first URL with the text bellow\n",
    "                            if g['href'].find(text_in_url) >-1 : \n",
    "                                # Use this link to scrape\n",
    "                                linkToScrape = g['href']\n",
    "                                return linkToScrape"
   ]
  },
  {
   "cell_type": "code",
   "execution_count": 78,
   "metadata": {},
   "outputs": [],
   "source": [
    "url = \"https://www.opendatani.gov.uk/@public-health-agency/notification-of-infectious-diseases\"\n",
    "data_soup = parse_data(url)"
   ]
  },
  {
   "cell_type": "code",
   "execution_count": 79,
   "metadata": {},
   "outputs": [
    {
     "data": {
      "text/plain": [
       "'https://admin.opendatani.gov.uk/dataset/e37520b0-ddb4-4cfa-b53f-a9c50ef21965/resource/5a1b0b11-4da0-4a9e-bf90-5ca41cecd619/download/copy-of-noids-week-48-csv.csv'"
      ]
     },
     "execution_count": 79,
     "metadata": {},
     "output_type": "execute_result"
    }
   ],
   "source": [
    "retrieve_href(url, '.csv')"
   ]
  },
  {
   "cell_type": "code",
   "execution_count": null,
   "metadata": {},
   "outputs": [],
   "source": []
  }
 ],
 "metadata": {
  "kernelspec": {
   "display_name": ".venv",
   "language": "python",
   "name": "python3"
  },
  "language_info": {
   "codemirror_mode": {
    "name": "ipython",
    "version": 3
   },
   "file_extension": ".py",
   "mimetype": "text/x-python",
   "name": "python",
   "nbconvert_exporter": "python",
   "pygments_lexer": "ipython3",
   "version": "3.11.1"
  },
  "orig_nbformat": 4
 },
 "nbformat": 4,
 "nbformat_minor": 2
}
