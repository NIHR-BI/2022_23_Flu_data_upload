{
 "cells": [
  {
   "cell_type": "code",
   "execution_count": null,
   "metadata": {},
   "outputs": [],
   "source": [
    "import pandas as pd\n",
    "import requests\n",
    "from bs4 import BeautifulSoup\n",
    "\n",
    "\n",
    "def retrieve_first_url(webpage, text_in_url):\n",
    "    data = requests.get(url=webpage)\n",
    "    data_soup = BeautifulSoup(data.content, 'html.parser')\n",
    "\n",
    "    # find all <a href> references\n",
    "    for link in data_soup.find_all(\"a\"):\n",
    "        # Retrieve the first URL with the text bellow\n",
    "        if link['href'].find(text_in_url) >-1 : \n",
    "            # Use this link to scrape\n",
    "            linkToScrape = link['href']\n",
    "            return linkToScrape"
   ]
  }
 ],
 "metadata": {
  "language_info": {
   "name": "python"
  },
  "orig_nbformat": 4
 },
 "nbformat": 4,
 "nbformat_minor": 2
}
